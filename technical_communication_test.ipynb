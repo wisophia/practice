{
  "nbformat": 4,
  "nbformat_minor": 0,
  "metadata": {
    "colab": {
      "name": "technical communication test.ipynb",
      "provenance": [],
      "authorship_tag": "ABX9TyM0QVZpE0hTZAOY+Jz428gY",
      "include_colab_link": true
    },
    "kernelspec": {
      "name": "python3",
      "display_name": "Python 3"
    }
  },
  "cells": [
    {
      "cell_type": "markdown",
      "metadata": {
        "id": "view-in-github",
        "colab_type": "text"
      },
      "source": [
        "<a href=\"https://colab.research.google.com/github/wisophia/practice/blob/master/technical_communication_test.ipynb\" target=\"_parent\"><img src=\"https://colab.research.google.com/assets/colab-badge.svg\" alt=\"Open In Colab\"/></a>"
      ]
    },
    {
      "cell_type": "code",
      "metadata": {
        "id": "ofleoq8szDFR",
        "colab_type": "code",
        "colab": {}
      },
      "source": [
        "def function()：\n",
        "  print(\"Weee\")"
      ],
      "execution_count": 0,
      "outputs": []
    }
  ]
}